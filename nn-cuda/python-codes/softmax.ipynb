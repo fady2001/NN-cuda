{
 "cells": [
  {
   "cell_type": "code",
   "execution_count": 1,
   "metadata": {},
   "outputs": [
    {
     "name": "stdout",
     "output_type": "stream",
     "text": [
      "[5.7281235e-05 9.1542053e-05 5.8205687e-02 6.6314016e-05 9.8114615e-05]\n",
      "tensor([5.7281e-05, 9.1542e-05, 5.8206e-02, 6.6314e-05, 9.8115e-05])\n",
      "True\n"
     ]
    }
   ],
   "source": [
    "# read arrays from .npy files and func Linear to compare\n",
    "import numpy as np\n",
    "import torch\n",
    "import torch.nn as nn\n",
    "\n",
    "inp = np.load('../with-torch-tests/softmax-layer/h_inp.npy')\n",
    "out = np.load('../with-torch-tests/softmax-layer/h_out.npy')\n",
    "\n",
    "#apply softmax with torch\n",
    "inp_torch = torch.from_numpy(inp).to(torch.float32)\n",
    "out_torch = nn.functional.softmax(inp_torch, dim=1)\n",
    "\n",
    "print(out[0,0:5])\n",
    "print(out_torch[0,0:5])\n",
    "print( np.allclose(out, out_torch.detach().numpy(), atol=1e-4, rtol=1e-4))"
   ]
  }
 ],
 "metadata": {
  "kernelspec": {
   "display_name": "Python 3",
   "language": "python",
   "name": "python3"
  },
  "language_info": {
   "codemirror_mode": {
    "name": "ipython",
    "version": 3
   },
   "file_extension": ".py",
   "mimetype": "text/x-python",
   "name": "python",
   "nbconvert_exporter": "python",
   "pygments_lexer": "ipython3",
   "version": "3.12.2"
  }
 },
 "nbformat": 4,
 "nbformat_minor": 2
}
