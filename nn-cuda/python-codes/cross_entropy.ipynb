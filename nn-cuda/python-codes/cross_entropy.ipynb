{
 "cells": [
  {
   "cell_type": "code",
   "execution_count": 2,
   "metadata": {},
   "outputs": [
    {
     "name": "stdout",
     "output_type": "stream",
     "text": [
      "input tensor([[-0.1613, -0.2479]], requires_grad=True)\n",
      "target tensor([[-1.4096, -0.2902]])\n",
      "softmax tensor([[0.2461, 0.7539]])\n",
      "tensor([0.7161], grad_fn=<NegBackward0>)\n"
     ]
    }
   ],
   "source": [
    "import torch\n",
    "import torch.nn as nn\n",
    "loss = nn.CrossEntropyLoss(reduction='none')\n",
    "input = torch.randn(1, 2, requires_grad=True)\n",
    "print(\"input\",input)\n",
    "target = torch.randn(1, 2)\n",
    "print(\"target\",target)\n",
    "softmaxed = target.softmax(dim=1)\n",
    "print(\"softmax\",softmaxed)\n",
    "output = loss(input, softmaxed)\n",
    "print(output)\n",
    "# output.backward()\n"
   ]
  },
  {
   "cell_type": "code",
   "execution_count": 4,
   "metadata": {},
   "outputs": [
    {
     "name": "stdout",
     "output_type": "stream",
     "text": [
      "torch.Size([3, 5])\n",
      "tensor([0.5361, 1.7481, 1.0094])\n"
     ]
    }
   ],
   "source": [
    "# m = nn.LogSoftmax(dim=1)\n",
    "loss = nn.NLLLoss(reduction='none')\n",
    "# input is of size N x C = 3 x 5\n",
    "input = torch.tensor([[0.80874, 0.585009, 0.479873, 0.350291, 0.895962],\n",
    "    [0.82284, 0.746605, 0.174108, 0.858943, 0.710501],\n",
    "    [0.513535, 0.303995, 0.0149846, 0.0914029, 0.364452]])\n",
    "\n",
    "# take the log of the softmax to get the log probabilities\n",
    "input = torch.log(input)\n",
    "print(input.shape)\n",
    "# each element in target has to have 0 <= value < C\n",
    "target = torch.tensor([1,2,4])\n",
    "output = loss(input, target)\n",
    "print(output)\n",
    "# output.backward()\n"
   ]
  },
  {
   "cell_type": "code",
   "execution_count": 2,
   "metadata": {},
   "outputs": [
    {
     "name": "stdout",
     "output_type": "stream",
     "text": [
      "[[7.3754084e-01 3.7342447e-01 9.5367289e-01 ... 5.4902799e-02\n",
      "  8.1377608e-01 4.7416610e-01]\n",
      " [7.8127384e-02 8.2253486e-01 4.8448133e-01 ... 8.9083529e-01\n",
      "  6.8590349e-01 5.9517199e-01]\n",
      " [8.7215799e-01 8.6217839e-01 4.2280343e-01 ... 8.0529189e-01\n",
      "  1.6940825e-01 2.4695578e-01]\n",
      " ...\n",
      " [7.9311504e+00 8.1496626e-01 1.0159612e-01 ... 7.3689991e-01\n",
      "  9.6874905e-01 9.7122103e-01]\n",
      " [7.9042939e-03 8.5082555e-01 7.0662558e-01 ... 4.6308786e-01\n",
      "  7.9729605e-01 2.4710837e-01]\n",
      " [5.4576248e-01 1.8927580e-01 6.8874174e-01 ... 6.7033905e-01\n",
      "  1.4654988e+00 9.1537219e-01]]\n",
      "[2.9195728  1.2787329  0.11892429 0.10178272 0.86642134]\n",
      "tensor([2.9196, 1.2787, 0.1189, 0.1018, 0.8664])\n",
      "True\n"
     ]
    }
   ],
   "source": [
    "# read arrays from .npy files and func Linear to compare\n",
    "import numpy as np\n",
    "import torch\n",
    "import torch.nn as nn\n",
    "\n",
    "inp = np.load('../with-torch-tests/cross-entropy-layer/h_predictions.npy')\n",
    "target = np.load('../with-torch-tests/cross-entropy-layer/h_targets.npy')\n",
    "h_losses = np.load('../with-torch-tests/cross-entropy-layer/h_losses.npy')\n",
    "inp_torch = torch.from_numpy(inp).to(torch.float32)\n",
    "inp_torch = torch.log(inp_torch)\n",
    "target_torch = torch.from_numpy(target).to(torch.int64)\n",
    "loss = nn.NLLLoss(reduction='none')\n",
    "out_torch = loss(inp_torch, target_torch)\n",
    "\n",
    "print(h_losses[0:5])\n",
    "print(out_torch[0:5])\n",
    "print(np.allclose(h_losses, out_torch.detach().numpy(), atol=1e-4, rtol=1e-4))"
   ]
  }
 ],
 "metadata": {
  "kernelspec": {
   "display_name": "Python 3",
   "language": "python",
   "name": "python3"
  },
  "language_info": {
   "codemirror_mode": {
    "name": "ipython",
    "version": 3
   },
   "file_extension": ".py",
   "mimetype": "text/x-python",
   "name": "python",
   "nbconvert_exporter": "python",
   "pygments_lexer": "ipython3",
   "version": "3.12.2"
  }
 },
 "nbformat": 4,
 "nbformat_minor": 2
}
