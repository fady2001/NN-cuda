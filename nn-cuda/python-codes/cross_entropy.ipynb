{
 "cells": [
  {
   "cell_type": "code",
   "execution_count": 2,
   "metadata": {},
   "outputs": [
    {
     "name": "stdout",
     "output_type": "stream",
     "text": [
      "input tensor([[-0.1613, -0.2479]], requires_grad=True)\n",
      "target tensor([[-1.4096, -0.2902]])\n",
      "softmax tensor([[0.2461, 0.7539]])\n",
      "tensor([0.7161], grad_fn=<NegBackward0>)\n"
     ]
    }
   ],
   "source": [
    "import torch\n",
    "import torch.nn as nn\n",
    "loss = nn.CrossEntropyLoss(reduction='none')\n",
    "input = torch.randn(1, 2, requires_grad=True)\n",
    "print(\"input\",input)\n",
    "target = torch.randn(1, 2)\n",
    "print(\"target\",target)\n",
    "softmaxed = target.softmax(dim=1)\n",
    "print(\"softmax\",softmaxed)\n",
    "output = loss(input, softmaxed)\n",
    "print(output)\n",
    "# output.backward()\n"
   ]
  },
  {
   "cell_type": "code",
   "execution_count": 4,
   "metadata": {},
   "outputs": [
    {
     "name": "stdout",
     "output_type": "stream",
     "text": [
      "torch.Size([3, 5])\n",
      "tensor([0.5361, 1.7481, 1.0094])\n"
     ]
    }
   ],
   "source": [
    "# m = nn.LogSoftmax(dim=1)\n",
    "loss = nn.NLLLoss(reduction='none')\n",
    "# input is of size N x C = 3 x 5\n",
    "input = torch.tensor([[0.80874, 0.585009, 0.479873, 0.350291, 0.895962],\n",
    "    [0.82284, 0.746605, 0.174108, 0.858943, 0.710501],\n",
    "    [0.513535, 0.303995, 0.0149846, 0.0914029, 0.364452]])\n",
    "\n",
    "# take the log of the softmax to get the log probabilities\n",
    "input = torch.log(input)\n",
    "print(input.shape)\n",
    "# each element in target has to have 0 <= value < C\n",
    "target = torch.tensor([1,2,4])\n",
    "output = loss(input, target)\n",
    "print(output)\n",
    "# output.backward()\n"
   ]
  },
  {
   "cell_type": "code",
   "execution_count": 13,
   "metadata": {},
   "outputs": [
    {
     "name": "stdout",
     "output_type": "stream",
     "text": [
      "[[0.0011597  0.23557237 0.6481521 ]\n",
      " [0.07437361 0.2702414  0.36002687]\n",
      " [0.25528732 0.98529005 0.31891844]]\n",
      "soft torch inp tensor([[0.0013, 0.2662, 0.7325],\n",
      "        [0.1055, 0.3835, 0.5109],\n",
      "        [0.1637, 0.6318, 0.2045]])\n",
      "log torch inp tensor([[-6.6373, -1.3234, -0.3113],\n",
      "        [-2.2486, -0.9584, -0.6715],\n",
      "        [-1.8097, -0.4592, -1.5872]])\n",
      "torch losses tensor([6.6373, 2.2486, 1.5872])\n",
      "h_losses [1.428864  1.2661014 1.3572543]\n",
      "H_sofqmax [[-1.428864   -1.1944513  -0.78187156]\n",
      " [-1.2661014  -1.0702336  -0.98044807]\n",
      " [-1.4208856  -0.69088274 -1.3572543 ]]\n"
     ]
    }
   ],
   "source": [
    "# read arrays from .npy files and func Linear to compare\n",
    "import numpy as np\n",
    "import torch\n",
    "import torch.nn as nn\n",
    "\n",
    "inp = np.load('../with-torch-tests/cross-entropy-layer/h_inp.npy')\n",
    "print(inp)\n",
    "target = np.load('../with-torch-tests/cross-entropy-layer/h_targets.npy').astype(np.int64)\n",
    "h_losses = np.load('../with-torch-tests/cross-entropy-layer/h_losses.npy')\n",
    "h_softmax = np.load('../with-torch-tests/cross-entropy-layer/h_softmaxed.npy')\n",
    "inp_torch = torch.from_numpy(inp).to(torch.float32)\n",
    "inp_torch = torch.log(inp_torch)\n",
    "target_torch = torch.from_numpy(target).to(torch.int64)\n",
    "\n",
    "#apply softmax\n",
    "m = nn.Softmax(dim=1)\n",
    "inp_torch_1 = m(inp_torch)\n",
    "print(\"soft torch inp\",inp_torch_1)\n",
    "\n",
    "#apply log softmax\n",
    "m = nn.LogSoftmax(dim=1)\n",
    "inp_torch_2 = m(inp_torch)\n",
    "print(\"log torch inp\",inp_torch_2)\n",
    "\n",
    "#apply NLLLoss\n",
    "loss = nn.NLLLoss(reduction='none')\n",
    "losses = loss(inp_torch_2, target_torch)\n",
    "print(\"torch losses\", losses)\n",
    "\n",
    "#compare\n",
    "print(\"h_losses\", h_losses)\n",
    "print(\"H_sofqmax\", h_softmax)"
   ]
  }
 ],
 "metadata": {
  "kernelspec": {
   "display_name": "Python 3",
   "language": "python",
   "name": "python3"
  },
  "language_info": {
   "codemirror_mode": {
    "name": "ipython",
    "version": 3
   },
   "file_extension": ".py",
   "mimetype": "text/x-python",
   "name": "python",
   "nbconvert_exporter": "python",
   "pygments_lexer": "ipython3",
   "version": "3.12.2"
  }
 },
 "nbformat": 4,
 "nbformat_minor": 2
}
