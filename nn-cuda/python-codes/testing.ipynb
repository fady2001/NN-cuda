{
 "cells": [
  {
   "cell_type": "code",
   "execution_count": 1,
   "metadata": {},
   "outputs": [
    {
     "name": "stdout",
     "output_type": "stream",
     "text": [
      "Outputs:\n",
      "tensor([[0.3220, 0.1954, 0.4826],\n",
      "        [0.2762, 0.2798, 0.4440],\n",
      "        [0.2625, 0.2510, 0.4864],\n",
      "        [0.2631, 0.2614, 0.4754]], grad_fn=<SoftmaxBackward0>)\n",
      "Loss: 1.0052919387817383\n"
     ]
    }
   ],
   "source": [
    "\n",
    "import torch\n",
    "import torch.nn as nn\n",
    "import torch.optim as optim\n",
    "\n",
    "# Define a custom neural network class\n",
    "class SimpleNN(nn.Module):\n",
    "    def __init__(self, input_size, hidden_size, output_size):\n",
    "        super(SimpleNN, self).__init__()\n",
    "        \n",
    "        # Define the network layers\n",
    "        self.linear1 = nn.Linear(input_size, hidden_size) # First linear layer\n",
    "        self.activation1 = nn.ReLU() # Activation function after the first layer\n",
    "        self.linear2 = nn.Linear(hidden_size, output_size) # Second linear layer\n",
    "        self.softmax = nn.Softmax(dim=1) # Softmax layer for the output\n",
    "    \n",
    "    def forward(self, x):\n",
    "        # Define the forward pass\n",
    "        x = self.linear1(x)\n",
    "        x = self.activation1(x)\n",
    "        x = self.linear2(x)\n",
    "        x = self.softmax(x)\n",
    "        return x\n",
    "\n",
    "# Create an instance of the network\n",
    "input_size = 10\n",
    "hidden_size = 5\n",
    "output_size = 3\n",
    "model = SimpleNN(input_size, hidden_size, output_size)\n",
    "\n",
    "# Create a loss function\n",
    "criterion = nn.CrossEntropyLoss()\n",
    "\n",
    "# Create an optimizer\n",
    "optimizer = optim.SGD(model.parameters(), lr=0.01)\n",
    "\n",
    "# Define a batch of inputs and targets\n",
    "batch_size = 4\n",
    "input_data = torch.randn(batch_size, input_size) # Random input tensor with batch size\n",
    "targets = torch.randint(0, output_size, (batch_size,)) # Random target tensor for each input in the batch\n",
    "\n",
    "# Forward pass\n",
    "outputs = model(input_data)\n",
    "\n",
    "# Compute loss\n",
    "loss = criterion(outputs, targets)\n",
    "\n",
    "# Backward pass\n",
    "loss.backward()\n",
    "\n",
    "# Update weights\n",
    "optimizer.step()\n",
    "\n",
    "# Optionally, print output and loss\n",
    "print(f\"Outputs:\\n{outputs}\")\n",
    "print(f\"Loss: {loss.item()}\")\n"
   ]
  },
  {
   "cell_type": "code",
   "execution_count": 7,
   "metadata": {},
   "outputs": [
    {
     "name": "stdout",
     "output_type": "stream",
     "text": [
      "tensor([27.6292, 23.5983, 28.8660, 25.8777, 24.1224], grad_fn=<SliceBackward0>)\n"
     ]
    }
   ],
   "source": [
    "# random array and save it to a file .npy\n",
    "# import numpy as np\n",
    "\n",
    "# B = 1000\n",
    "# N = 100\n",
    "# M = 30\n",
    "# X = np.random.rand(B, N).astype(np.float32)\n",
    "# W = np.random.rand(M,N).astype(np.float32)\n",
    "# bias = np.random.rand(M).astype(np.float32)\n",
    "# np.save('../with-torch-tests/linear-layer/X.npy', X)\n",
    "# np.save('../with-torch-tests/linear-layer/W.npy', W)\n",
    "# np.save('../with-torch-tests/linear-layer/bias.npy', bias)\n",
    "\n",
    "# l = nn.Linear(N,M)\n",
    "# l.weight.data = torch.from_numpy(W)\n",
    "# l.bias.data = torch.from_numpy(bias)\n",
    "# X_torch = torch.from_numpy(X)\n",
    "# Y = l(X_torch)\n",
    "# np.save('../with-torch-tests/linear-layer/Y.npy', Y.detach().numpy())\n",
    "# print(Y[0,0:5])\n"
   ]
  },
  {
   "cell_type": "code",
   "execution_count": 32,
   "metadata": {},
   "outputs": [
    {
     "name": "stdout",
     "output_type": "stream",
     "text": [
      "[-3.7956476  -3.9812362   0.08876852  1.2680509   0.22692043]\n",
      "tensor([-3.7956, -3.9812,  0.0888,  1.2681,  0.2269], grad_fn=<SliceBackward0>)\n",
      "True\n"
     ]
    }
   ],
   "source": [
    "# read arrays from .npy files and func Linear to compare\n",
    "import numpy as np\n",
    "import torch\n",
    "import torch.nn as nn\n",
    "\n",
    "X = np.load('../with-torch-tests/linear-layer/X_C.npy')\n",
    "W = np.load('../with-torch-tests/linear-layer/W_C.npy')\n",
    "bias = np.load('../with-torch-tests/linear-layer/bias_C.npy')\n",
    "Y = np.load('../with-torch-tests/linear-layer/out_C.npy')\n",
    "B,N = X.shape\n",
    "_,M = Y.shape\n",
    "l = nn.Linear(M,N)\n",
    "l.weight.data = torch.from_numpy(W).to(torch.float32)\n",
    "l.bias.data = torch.from_numpy(bias).to(torch.float32)\n",
    "X_torch = torch.from_numpy(X).to(torch.float32)\n",
    "Y_torch = l(X_torch)\n",
    "\n",
    "print(Y[0,0:5])\n",
    "print(Y_torch[0,0:5])\n",
    "print( np.allclose(Y, Y_torch.detach().numpy(), atol=1e-4, rtol=1e-4))\n",
    "\n"
   ]
  },
  {
   "cell_type": "code",
   "execution_count": 39,
   "metadata": {},
   "outputs": [
    {
     "name": "stdout",
     "output_type": "stream",
     "text": [
      "Forward pass comparison:\n",
      "Y (numpy): [0.09152496 0.         0.3774835  0.         0.59312725]\n",
      "Y_torch: [0.09152496 0.         0.3774835  0.         0.59312725]\n",
      "Match: True\n",
      "\n",
      "Backward pass comparison:\n",
      "dX (numpy): [-0.9976806   0.          0.29630423  0.         -0.45951718]\n",
      "dX_torch: [-0.9976806   0.          0.29630423  0.         -0.45951718]\n",
      "Match: True\n"
     ]
    }
   ],
   "source": [
    "# Relu forward and backward tests\n",
    "import numpy as np\n",
    "import torch\n",
    "import torch.nn as nn\n",
    "import torch.nn.functional as F\n",
    "\n",
    "# Load data\n",
    "X = np.load(r'../with-torch-tests/relu-layer/X_relu.npy')\n",
    "Y = np.load(r'../with-torch-tests/relu-layer/out_relu.npy')\n",
    "dY = np.load(r'../with-torch-tests/relu-layer/up_grad_relu.npy')\n",
    "dX = np.load(r'../with-torch-tests/relu-layer/down_grad_relu.npy')\n",
    "# Convert to PyTorch tensors\n",
    "# make sure to set requires_grad=True for the input tensor so that the Autograd engine can compute the gradients\n",
    "X_torch = torch.from_numpy(X).to(torch.float32).requires_grad_(True)\n",
    "dY_torch = torch.from_numpy(dY).to(torch.float32)\n",
    "\n",
    "# Forward pass with ReLU\n",
    "relu = nn.ReLU()\n",
    "Y_torch = relu(X_torch)\n",
    "\n",
    "# Compare the forward pass results\n",
    "print(\"Forward pass comparison:\")\n",
    "print(\"Y (numpy):\", Y[0, 0:5])\n",
    "print(\"Y_torch:\", Y_torch.detach().numpy()[0, 0:5])\n",
    "print(\"Match:\", np.allclose(Y, Y_torch.detach().numpy(), atol=1e-4, rtol=1e-4))\n",
    "\n",
    "\n",
    "# Validate the backward pass\n",
    "Y_torch.backward(dY_torch)\n",
    "\n",
    "# Get the gradients from X_torch\n",
    "dX_torch = X_torch.grad\n",
    "\n",
    "# Compare the backward pass results\n",
    "print(\"\\nBackward pass comparison:\")\n",
    "print(\"dX (numpy):\", dX[0, 0:5])\n",
    "print(\"dX_torch:\", dX_torch.numpy()[0, 0:5])\n",
    "print(\"Match:\", np.allclose(dX, dX_torch.numpy(), atol=1e-4, rtol=1e-4))\n"
   ]
  }
 ],
 "metadata": {
  "kernelspec": {
   "display_name": "base",
   "language": "python",
   "name": "python3"
  },
  "language_info": {
   "codemirror_mode": {
    "name": "ipython",
    "version": 3
   },
   "file_extension": ".py",
   "mimetype": "text/x-python",
   "name": "python",
   "nbconvert_exporter": "python",
   "pygments_lexer": "ipython3",
   "version": "3.9.18"
  }
 },
 "nbformat": 4,
 "nbformat_minor": 2
}
