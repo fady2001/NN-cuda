{
 "cells": [
  {
   "cell_type": "code",
   "execution_count": 2,
   "metadata": {},
   "outputs": [
    {
     "name": "stdout",
     "output_type": "stream",
     "text": [
      "input tensor([[-0.1613, -0.2479]], requires_grad=True)\n",
      "target tensor([[-1.4096, -0.2902]])\n",
      "softmax tensor([[0.2461, 0.7539]])\n",
      "tensor([0.7161], grad_fn=<NegBackward0>)\n"
     ]
    }
   ],
   "source": [
    "import torch\n",
    "import torch.nn as nn\n",
    "loss = nn.CrossEntropyLoss(reduction='none')\n",
    "input = torch.randn(1, 2, requires_grad=True)\n",
    "print(\"input\",input)\n",
    "target = torch.randn(1, 2)\n",
    "print(\"target\",target)\n",
    "softmaxed = target.softmax(dim=1)\n",
    "print(\"softmax\",softmaxed)\n",
    "output = loss(input, softmaxed)\n",
    "print(output)\n",
    "# output.backward()\n"
   ]
  },
  {
   "cell_type": "code",
   "execution_count": 4,
   "metadata": {},
   "outputs": [
    {
     "name": "stdout",
     "output_type": "stream",
     "text": [
      "torch.Size([3, 5])\n",
      "tensor([0.5361, 1.7481, 1.0094])\n"
     ]
    }
   ],
   "source": [
    "# m = nn.LogSoftmax(dim=1)\n",
    "loss = nn.NLLLoss(reduction='none')\n",
    "# input is of size N x C = 3 x 5\n",
    "input = torch.tensor([[0.80874, 0.585009, 0.479873, 0.350291, 0.895962],\n",
    "    [0.82284, 0.746605, 0.174108, 0.858943, 0.710501],\n",
    "    [0.513535, 0.303995, 0.0149846, 0.0914029, 0.364452]])\n",
    "\n",
    "# take the log of the softmax to get the log probabilities\n",
    "input = torch.log(input)\n",
    "print(input.shape)\n",
    "# each element in target has to have 0 <= value < C\n",
    "target = torch.tensor([1,2,4])\n",
    "output = loss(input, target)\n",
    "print(output)\n",
    "# output.backward()\n"
   ]
  },
  {
   "cell_type": "code",
   "execution_count": null,
   "metadata": {},
   "outputs": [
    {
     "name": "stdout",
     "output_type": "stream",
     "text": [
      "tensor([1.6689, 2.1257, 1.5191])\n"
     ]
    },
    {
     "ename": "IndexError",
     "evalue": "Dimension out of range (expected to be in range of [-1, 0], but got 1)",
     "output_type": "error",
     "traceback": [
      "\u001b[1;31m---------------------------------------------------------------------------\u001b[0m",
      "\u001b[1;31mIndexError\u001b[0m                                Traceback (most recent call last)",
      "Cell \u001b[1;32mIn[108], line 6\u001b[0m\n\u001b[0;32m      4\u001b[0m \u001b[38;5;28mprint\u001b[39m(output)\n\u001b[0;32m      5\u001b[0m \u001b[38;5;66;03m# Example of target with class probabilities\u001b[39;00m\n\u001b[1;32m----> 6\u001b[0m target \u001b[38;5;241m=\u001b[39m \u001b[43mtarget\u001b[49m\u001b[38;5;241;43m.\u001b[39;49m\u001b[43msoftmax\u001b[49m\u001b[43m(\u001b[49m\u001b[43mdim\u001b[49m\u001b[38;5;241;43m=\u001b[39;49m\u001b[38;5;241;43m1\u001b[39;49m\u001b[43m)\u001b[49m\n\u001b[0;32m      7\u001b[0m output \u001b[38;5;241m=\u001b[39m loss(\u001b[38;5;28minput\u001b[39m, target)\n\u001b[0;32m      8\u001b[0m \u001b[38;5;28mprint\u001b[39m(output)\n",
      "\u001b[1;31mIndexError\u001b[0m: Dimension out of range (expected to be in range of [-1, 0], but got 1)"
     ]
    }
   ],
   "source": [
    "# Example of target with class indices\n",
    "loss = nn.CrossEntropyLoss(reduction='none')\n",
    "output = loss(input, target)\n",
    "print(output)\n",
    "# Example of target with class probabilities\n",
    "target = target.softmax(dim=1)\n",
    "output = loss(input, target)\n",
    "print(output)"
   ]
  }
 ],
 "metadata": {
  "kernelspec": {
   "display_name": "Python 3",
   "language": "python",
   "name": "python3"
  },
  "language_info": {
   "codemirror_mode": {
    "name": "ipython",
    "version": 3
   },
   "file_extension": ".py",
   "mimetype": "text/x-python",
   "name": "python",
   "nbconvert_exporter": "python",
   "pygments_lexer": "ipython3",
   "version": "3.12.2"
  }
 },
 "nbformat": 4,
 "nbformat_minor": 2
}
